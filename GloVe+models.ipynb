{
 "cells": [
  {
   "cell_type": "code",
   "execution_count": 1,
   "id": "94dac843",
   "metadata": {},
   "outputs": [
    {
     "data": {
      "text/plain": [
       "1335657            @LaDii_Trice LOL calm ya hyper ass down. \n",
       "331743     Thinking of you, your company, your eyes, your...\n",
       "504703        is working late. Recovering from stomach bug. \n",
       "1113931    Listening to good music, laying out by the poo...\n",
       "1002855    @princessa_the1 It would be great if we went o...\n",
       "Name: text, dtype: object"
      ]
     },
     "execution_count": 1,
     "metadata": {},
     "output_type": "execute_result"
    }
   ],
   "source": [
    "import pandas as pd\n",
    "import re\n",
    "\n",
    "from nltk import PorterStemmer, SnowballStemmer\n",
    "from nltk.corpus import stopwords\n",
    "from sklearn.model_selection import train_test_split\n",
    "from sklearn.neural_network import MLPClassifier\n",
    "from sklearn.pipeline import Pipeline\n",
    "from sklearn.feature_extraction.text import TfidfVectorizer\n",
    "\n",
    "from sklearn.metrics import confusion_matrix,classification_report,accuracy_score\n",
    "import nltk\n",
    "from nltk.stem import WordNetLemmatizer \n",
    "\n",
    "import warnings\n",
    "warnings.filterwarnings('ignore')\n",
    "\n",
    "\n",
    "col = ['target', 'id', 'date', 'flag', 'user', 'text']\n",
    "\n",
    "df = pd.read_csv(r'training.1600000.processed.noemoticon.csv', header = None, names = col,  encoding='latin-1')\n",
    "\n",
    "\n",
    "df.dropna()\n",
    "\n",
    "df = df.sample(n=50000)\n",
    "\n",
    "# Handle Categories variable\n",
    "df['target'] = df['target'].replace(4,1)\n",
    "\n",
    "\n",
    "df['text'].head()"
   ]
  },
  {
   "cell_type": "code",
   "execution_count": 2,
   "id": "5c95c4d3",
   "metadata": {},
   "outputs": [],
   "source": [
    "\n",
    "def get_part_of_day(h):\n",
    "        if   5 <= h <= 11:\n",
    "            return 'morning'\n",
    "        elif 12 <= h <= 17:\n",
    "            return 'afternoon'\n",
    "        elif 18 <= h <= 22:\n",
    "            return 'evening'\n",
    "        else:\n",
    "            return 'night'\n",
    "\n",
    "\n",
    "day = []\n",
    "month = []\n",
    "dayInMonth = []\n",
    "timeOfTweet = []\n",
    "timePeriod = []\n",
    "year = []\n",
    "\n",
    "for d in df['date']:\n",
    "    sub = d.split(' ')\n",
    "    day.append(sub[0])\n",
    "    dayInMonth.append(sub[2])\n",
    "    timePeriod.append(get_part_of_day(int(sub[3][:2])))\n",
    "\n",
    "    # time zones is only pdt\n",
    "    # timeZone.append(sub[4])\n",
    "\n",
    "    # year is only 2009\n",
    "    # year.append(sub[5])\n",
    "\n",
    "\n",
    "\n",
    "data = pd.DataFrame()\n",
    "\n",
    "data['day'] = day\n",
    "data['dayInMonth'] = dayInMonth\n",
    "data['partOfDay'] = timePeriod\n",
    "\n",
    "data = pd.get_dummies(data, columns=['day','partOfDay'])\n",
    "\n"
   ]
  },
  {
   "cell_type": "code",
   "execution_count": 3,
   "id": "8487348f",
   "metadata": {},
   "outputs": [
    {
     "data": {
      "text/html": [
       "<div>\n",
       "<style scoped>\n",
       "    .dataframe tbody tr th:only-of-type {\n",
       "        vertical-align: middle;\n",
       "    }\n",
       "\n",
       "    .dataframe tbody tr th {\n",
       "        vertical-align: top;\n",
       "    }\n",
       "\n",
       "    .dataframe thead th {\n",
       "        text-align: right;\n",
       "    }\n",
       "</style>\n",
       "<table border=\"1\" class=\"dataframe\">\n",
       "  <thead>\n",
       "    <tr style=\"text-align: right;\">\n",
       "      <th></th>\n",
       "      <th>dayInMonth</th>\n",
       "      <th>day_Fri</th>\n",
       "      <th>day_Mon</th>\n",
       "      <th>day_Sat</th>\n",
       "      <th>day_Sun</th>\n",
       "      <th>day_Thu</th>\n",
       "      <th>day_Tue</th>\n",
       "      <th>day_Wed</th>\n",
       "      <th>partOfDay_afternoon</th>\n",
       "      <th>partOfDay_evening</th>\n",
       "      <th>partOfDay_morning</th>\n",
       "      <th>partOfDay_night</th>\n",
       "      <th>target</th>\n",
       "      <th>text</th>\n",
       "    </tr>\n",
       "  </thead>\n",
       "  <tbody>\n",
       "    <tr>\n",
       "      <th>0</th>\n",
       "      <td>03</td>\n",
       "      <td>0</td>\n",
       "      <td>0</td>\n",
       "      <td>0</td>\n",
       "      <td>0</td>\n",
       "      <td>0</td>\n",
       "      <td>0</td>\n",
       "      <td>1</td>\n",
       "      <td>0</td>\n",
       "      <td>0</td>\n",
       "      <td>1</td>\n",
       "      <td>0</td>\n",
       "      <td>1</td>\n",
       "      <td>@LaDii_Trice LOL calm ya hyper ass down.</td>\n",
       "    </tr>\n",
       "    <tr>\n",
       "      <th>1</th>\n",
       "      <td>02</td>\n",
       "      <td>0</td>\n",
       "      <td>0</td>\n",
       "      <td>0</td>\n",
       "      <td>0</td>\n",
       "      <td>0</td>\n",
       "      <td>1</td>\n",
       "      <td>0</td>\n",
       "      <td>0</td>\n",
       "      <td>1</td>\n",
       "      <td>0</td>\n",
       "      <td>0</td>\n",
       "      <td>0</td>\n",
       "      <td>Thinking of you, your company, your eyes, your...</td>\n",
       "    </tr>\n",
       "    <tr>\n",
       "      <th>2</th>\n",
       "      <td>15</td>\n",
       "      <td>0</td>\n",
       "      <td>1</td>\n",
       "      <td>0</td>\n",
       "      <td>0</td>\n",
       "      <td>0</td>\n",
       "      <td>0</td>\n",
       "      <td>0</td>\n",
       "      <td>0</td>\n",
       "      <td>1</td>\n",
       "      <td>0</td>\n",
       "      <td>0</td>\n",
       "      <td>0</td>\n",
       "      <td>is working late. Recovering from stomach bug.</td>\n",
       "    </tr>\n",
       "    <tr>\n",
       "      <th>3</th>\n",
       "      <td>30</td>\n",
       "      <td>0</td>\n",
       "      <td>0</td>\n",
       "      <td>1</td>\n",
       "      <td>0</td>\n",
       "      <td>0</td>\n",
       "      <td>0</td>\n",
       "      <td>0</td>\n",
       "      <td>0</td>\n",
       "      <td>0</td>\n",
       "      <td>1</td>\n",
       "      <td>0</td>\n",
       "      <td>1</td>\n",
       "      <td>Listening to good music, laying out by the poo...</td>\n",
       "    </tr>\n",
       "    <tr>\n",
       "      <th>4</th>\n",
       "      <td>22</td>\n",
       "      <td>1</td>\n",
       "      <td>0</td>\n",
       "      <td>0</td>\n",
       "      <td>0</td>\n",
       "      <td>0</td>\n",
       "      <td>0</td>\n",
       "      <td>0</td>\n",
       "      <td>0</td>\n",
       "      <td>0</td>\n",
       "      <td>0</td>\n",
       "      <td>1</td>\n",
       "      <td>1</td>\n",
       "      <td>@princessa_the1 It would be great if we went o...</td>\n",
       "    </tr>\n",
       "  </tbody>\n",
       "</table>\n",
       "</div>"
      ],
      "text/plain": [
       "  dayInMonth  day_Fri  day_Mon  day_Sat  day_Sun  day_Thu  day_Tue  day_Wed  \\\n",
       "0         03        0        0        0        0        0        0        1   \n",
       "1         02        0        0        0        0        0        1        0   \n",
       "2         15        0        1        0        0        0        0        0   \n",
       "3         30        0        0        1        0        0        0        0   \n",
       "4         22        1        0        0        0        0        0        0   \n",
       "\n",
       "   partOfDay_afternoon  partOfDay_evening  partOfDay_morning  partOfDay_night  \\\n",
       "0                    0                  0                  1                0   \n",
       "1                    0                  1                  0                0   \n",
       "2                    0                  1                  0                0   \n",
       "3                    0                  0                  1                0   \n",
       "4                    0                  0                  0                1   \n",
       "\n",
       "   target                                               text  \n",
       "0       1          @LaDii_Trice LOL calm ya hyper ass down.   \n",
       "1       0  Thinking of you, your company, your eyes, your...  \n",
       "2       0     is working late. Recovering from stomach bug.   \n",
       "3       1  Listening to good music, laying out by the poo...  \n",
       "4       1  @princessa_the1 It would be great if we went o...  "
      ]
     },
     "execution_count": 3,
     "metadata": {},
     "output_type": "execute_result"
    }
   ],
   "source": [
    "data['target'] = df['target'].values\n",
    "data['text'] = df['text'].values\n",
    "\n",
    "df = data\n",
    "\n",
    "data.head()"
   ]
  },
  {
   "cell_type": "code",
   "execution_count": 4,
   "id": "6f996cee",
   "metadata": {},
   "outputs": [
    {
     "name": "stdout",
     "output_type": "stream",
     "text": [
      "starting text clean\n"
     ]
    }
   ],
   "source": [
    "print(\"starting text clean\")\n",
    "\n",
    "# nltk.download('wordnet')\n",
    "# nltk.download('omw-1.4')\n",
    "\n",
    "# Init the Wordnet Lemmatizer\n",
    "lemmatizer = WordNetLemmatizer()\n",
    "\n",
    "\n",
    "\n",
    "ps = PorterStemmer()\n",
    "sb = SnowballStemmer(language='english')\n",
    "\n",
    "\n",
    "all_stopwords = stopwords.words('english')\n",
    "\n",
    "corpus = []\n",
    "corpus1 = []\n",
    "\n",
    "\n",
    "\n",
    "for sen in df['text']:\n",
    "    # remove hashtags\n",
    "    sen = re.sub(\"(@[A-Za-z0-9_]+)|([^0-9A-Za-z \\t])|(\\w+:\\/\\/\\S+)\", ' ', sen)\n",
    "#     sen = re.sub('(@|#|&)+([a-zA-Z0-9_]+)', '', sen)\n",
    "    # remove weird chars\n",
    "    sen = re.sub('[^a-zA-z\\'\\\"]+', ' ', sen)\n",
    "    # remove urls\n",
    "    sen = re.sub(r'\\$\\w*', '', sen)\n",
    "    # remove old style retweet text \"RT\"\n",
    "    sen = re.sub(r'^RT[\\s]+', '', sen)\n",
    "    # remove hyperlinks\n",
    "    sen = re.sub(r'https?:\\/\\/.*[\\r\\n]*', '', sen)\n",
    "    # only removing the hash # sign from the word\n",
    "    sen = re.sub(r'#', '', sen)\n",
    "\n",
    "    \n",
    "\n",
    "    sen = sen.lower()\n",
    "    sen = sen.split()\n",
    "\n",
    "    \n",
    "\n",
    "\n",
    "    \n",
    "            # porter stemmer vs snowball stemmer\n",
    "#     text = [ps.stem(word) for word in sen if not word in set(all_stopwords)]\n",
    "\n",
    "        # lemmtization vs stemming    (word meaning vs stem)\n",
    "#   text1 = [sb.stem(word) for word in sen if not word in set(all_stopwords)]\n",
    "    text1 = [lemmatizer.lemmatize(word) for word in sen if not word in set(all_stopwords)]\n",
    "    \n",
    "    \n",
    "#     text = ' '.join(text)\n",
    "    text1 = ' '.join(text1)\n",
    "    \n",
    "    \n",
    "#     corpus.append(text)\n",
    "    corpus1.append(text1)\n",
    "\n"
   ]
  },
  {
   "cell_type": "code",
   "execution_count": 5,
   "id": "7210f599",
   "metadata": {},
   "outputs": [
    {
     "data": {
      "text/html": [
       "<div>\n",
       "<style scoped>\n",
       "    .dataframe tbody tr th:only-of-type {\n",
       "        vertical-align: middle;\n",
       "    }\n",
       "\n",
       "    .dataframe tbody tr th {\n",
       "        vertical-align: top;\n",
       "    }\n",
       "\n",
       "    .dataframe thead th {\n",
       "        text-align: right;\n",
       "    }\n",
       "</style>\n",
       "<table border=\"1\" class=\"dataframe\">\n",
       "  <thead>\n",
       "    <tr style=\"text-align: right;\">\n",
       "      <th></th>\n",
       "      <th>col</th>\n",
       "    </tr>\n",
       "  </thead>\n",
       "  <tbody>\n",
       "    <tr>\n",
       "      <th>0</th>\n",
       "      <td>lol calm ya hyper as</td>\n",
       "    </tr>\n",
       "    <tr>\n",
       "      <th>1</th>\n",
       "      <td>thinking company eye personality amazingness g...</td>\n",
       "    </tr>\n",
       "    <tr>\n",
       "      <th>2</th>\n",
       "      <td>working late recovering stomach bug</td>\n",
       "    </tr>\n",
       "    <tr>\n",
       "      <th>3</th>\n",
       "      <td>listening good music laying pool great jeeeeezy</td>\n",
       "    </tr>\n",
       "    <tr>\n",
       "      <th>4</th>\n",
       "      <td>would great went date</td>\n",
       "    </tr>\n",
       "  </tbody>\n",
       "</table>\n",
       "</div>"
      ],
      "text/plain": [
       "                                                 col\n",
       "0                               lol calm ya hyper as\n",
       "1  thinking company eye personality amazingness g...\n",
       "2                working late recovering stomach bug\n",
       "3    listening good music laying pool great jeeeeezy\n",
       "4                              would great went date"
      ]
     },
     "execution_count": 5,
     "metadata": {},
     "output_type": "execute_result"
    }
   ],
   "source": [
    "x = pd.DataFrame({'col':corpus1})\n",
    "x.head()"
   ]
  },
  {
   "cell_type": "code",
   "execution_count": 6,
   "id": "0bd08400",
   "metadata": {},
   "outputs": [
    {
     "data": {
      "text/html": [
       "<div>\n",
       "<style scoped>\n",
       "    .dataframe tbody tr th:only-of-type {\n",
       "        vertical-align: middle;\n",
       "    }\n",
       "\n",
       "    .dataframe tbody tr th {\n",
       "        vertical-align: top;\n",
       "    }\n",
       "\n",
       "    .dataframe thead th {\n",
       "        text-align: right;\n",
       "    }\n",
       "</style>\n",
       "<table border=\"1\" class=\"dataframe\">\n",
       "  <thead>\n",
       "    <tr style=\"text-align: right;\">\n",
       "      <th></th>\n",
       "      <th>dayInMonth</th>\n",
       "      <th>day_Fri</th>\n",
       "      <th>day_Mon</th>\n",
       "      <th>day_Sat</th>\n",
       "      <th>day_Sun</th>\n",
       "      <th>day_Thu</th>\n",
       "      <th>day_Tue</th>\n",
       "      <th>day_Wed</th>\n",
       "      <th>partOfDay_afternoon</th>\n",
       "      <th>partOfDay_evening</th>\n",
       "      <th>partOfDay_morning</th>\n",
       "      <th>partOfDay_night</th>\n",
       "      <th>col</th>\n",
       "    </tr>\n",
       "  </thead>\n",
       "  <tbody>\n",
       "    <tr>\n",
       "      <th>0</th>\n",
       "      <td>03</td>\n",
       "      <td>0</td>\n",
       "      <td>0</td>\n",
       "      <td>0</td>\n",
       "      <td>0</td>\n",
       "      <td>0</td>\n",
       "      <td>0</td>\n",
       "      <td>1</td>\n",
       "      <td>0</td>\n",
       "      <td>0</td>\n",
       "      <td>1</td>\n",
       "      <td>0</td>\n",
       "      <td>lol calm ya hyper as</td>\n",
       "    </tr>\n",
       "    <tr>\n",
       "      <th>1</th>\n",
       "      <td>02</td>\n",
       "      <td>0</td>\n",
       "      <td>0</td>\n",
       "      <td>0</td>\n",
       "      <td>0</td>\n",
       "      <td>0</td>\n",
       "      <td>1</td>\n",
       "      <td>0</td>\n",
       "      <td>0</td>\n",
       "      <td>1</td>\n",
       "      <td>0</td>\n",
       "      <td>0</td>\n",
       "      <td>thinking company eye personality amazingness g...</td>\n",
       "    </tr>\n",
       "    <tr>\n",
       "      <th>2</th>\n",
       "      <td>15</td>\n",
       "      <td>0</td>\n",
       "      <td>1</td>\n",
       "      <td>0</td>\n",
       "      <td>0</td>\n",
       "      <td>0</td>\n",
       "      <td>0</td>\n",
       "      <td>0</td>\n",
       "      <td>0</td>\n",
       "      <td>1</td>\n",
       "      <td>0</td>\n",
       "      <td>0</td>\n",
       "      <td>working late recovering stomach bug</td>\n",
       "    </tr>\n",
       "    <tr>\n",
       "      <th>3</th>\n",
       "      <td>30</td>\n",
       "      <td>0</td>\n",
       "      <td>0</td>\n",
       "      <td>1</td>\n",
       "      <td>0</td>\n",
       "      <td>0</td>\n",
       "      <td>0</td>\n",
       "      <td>0</td>\n",
       "      <td>0</td>\n",
       "      <td>0</td>\n",
       "      <td>1</td>\n",
       "      <td>0</td>\n",
       "      <td>listening good music laying pool great jeeeeezy</td>\n",
       "    </tr>\n",
       "    <tr>\n",
       "      <th>4</th>\n",
       "      <td>22</td>\n",
       "      <td>1</td>\n",
       "      <td>0</td>\n",
       "      <td>0</td>\n",
       "      <td>0</td>\n",
       "      <td>0</td>\n",
       "      <td>0</td>\n",
       "      <td>0</td>\n",
       "      <td>0</td>\n",
       "      <td>0</td>\n",
       "      <td>0</td>\n",
       "      <td>1</td>\n",
       "      <td>would great went date</td>\n",
       "    </tr>\n",
       "  </tbody>\n",
       "</table>\n",
       "</div>"
      ],
      "text/plain": [
       "  dayInMonth  day_Fri  day_Mon  day_Sat  day_Sun  day_Thu  day_Tue  day_Wed  \\\n",
       "0         03        0        0        0        0        0        0        1   \n",
       "1         02        0        0        0        0        0        1        0   \n",
       "2         15        0        1        0        0        0        0        0   \n",
       "3         30        0        0        1        0        0        0        0   \n",
       "4         22        1        0        0        0        0        0        0   \n",
       "\n",
       "   partOfDay_afternoon  partOfDay_evening  partOfDay_morning  partOfDay_night  \\\n",
       "0                    0                  0                  1                0   \n",
       "1                    0                  1                  0                0   \n",
       "2                    0                  1                  0                0   \n",
       "3                    0                  0                  1                0   \n",
       "4                    0                  0                  0                1   \n",
       "\n",
       "                                                 col  \n",
       "0                               lol calm ya hyper as  \n",
       "1  thinking company eye personality amazingness g...  \n",
       "2                working late recovering stomach bug  \n",
       "3    listening good music laying pool great jeeeeezy  \n",
       "4                              would great went date  "
      ]
     },
     "execution_count": 6,
     "metadata": {},
     "output_type": "execute_result"
    }
   ],
   "source": [
    "y = df['target'].values\n",
    "\n",
    "df = pd.concat([df, x], axis=1, join='inner')\n",
    "df = df.drop(['target','text'],axis=1)\n",
    "\n",
    "df.head()"
   ]
  },
  {
   "cell_type": "code",
   "execution_count": 7,
   "id": "0ee35fb1",
   "metadata": {},
   "outputs": [],
   "source": [
    "X_train, X_test,y_train, y_test = train_test_split(df, y, test_size=0.2, random_state = 42)"
   ]
  },
  {
   "cell_type": "code",
   "execution_count": 8,
   "id": "eacf6e39",
   "metadata": {},
   "outputs": [],
   "source": [
    "\n",
    "from keras.preprocessing.text import Tokenizer\n",
    "from keras.utils.data_utils import pad_sequences\n",
    "\n",
    "token = Tokenizer()\n",
    "\n",
    "\n",
    "seq = token.texts_to_sequences(X_train['col'])\n",
    "pad_seq = pad_sequences(seq,maxlen=300)\n"
   ]
  },
  {
   "cell_type": "code",
   "execution_count": 9,
   "id": "3e1fb596",
   "metadata": {},
   "outputs": [
    {
     "name": "stderr",
     "output_type": "stream",
     "text": [
      "2196018it [03:03, 11956.70it/s]\n"
     ]
    }
   ],
   "source": [
    "\n",
    "from tqdm import tqdm\n",
    "import numpy as np\n",
    "\n",
    "\n",
    "vocab_size = len(token.word_index)+1\n",
    "\n",
    "\n",
    "embedding_vector = {}\n",
    "f = open('glove.840B.300d.txt')\n",
    "for line in tqdm(f):\n",
    "    value = line.split(' ')\n",
    "    word = value[0]\n",
    "    coef = np.array(value[1:],dtype = 'float32')\n",
    "    embedding_vector[word] = coef"
   ]
  },
  {
   "cell_type": "code",
   "execution_count": 10,
   "id": "2ac5138f",
   "metadata": {},
   "outputs": [],
   "source": [
    "embedding_matrix = np.zeros((vocab_size,300))\n",
    "for word,i in token.word_index.items():\n",
    "    embedding_value = embedding_vector.get(word)\n",
    "    if embedding_value is not None:\n",
    "        embedding_matrix[i] = embedding_value"
   ]
  },
  {
   "cell_type": "code",
   "execution_count": 11,
   "id": "8d50e831",
   "metadata": {},
   "outputs": [],
   "source": [
    "from keras.layers import Embedding\n",
    "embedding_layer = Embedding(300,\n",
    "                            300,\n",
    "                            weights=[embedding_matrix],\n",
    "                            input_length=500,\n",
    "                            trainable=False)"
   ]
  },
  {
   "cell_type": "code",
   "execution_count": 12,
   "id": "5b4435f8",
   "metadata": {},
   "outputs": [],
   "source": [
    "seq1 = token.texts_to_sequences(X_test['col'])\n",
    "pad_seq1 = pad_sequences(seq1,maxlen=300)\n",
    "\n",
    "\n",
    "x_train = pad_seq\n",
    "x_test= pad_seq1\n"
   ]
  },
  {
   "cell_type": "code",
   "execution_count": 13,
   "id": "377efe6c",
   "metadata": {},
   "outputs": [],
   "source": [
    "\n",
    "x_train1 = pd.DataFrame(x_train)\n",
    "x_test1 = pd.DataFrame(x_test)"
   ]
  },
  {
   "cell_type": "code",
   "execution_count": 14,
   "id": "593a04c8",
   "metadata": {},
   "outputs": [
    {
     "data": {
      "text/plain": [
       "(40000, 300)"
      ]
     },
     "execution_count": 14,
     "metadata": {},
     "output_type": "execute_result"
    }
   ],
   "source": [
    "x_train1.shape"
   ]
  },
  {
   "cell_type": "code",
   "execution_count": 15,
   "id": "2e3a3b8c",
   "metadata": {},
   "outputs": [
    {
     "data": {
      "text/plain": [
       "(40000, 13)"
      ]
     },
     "execution_count": 15,
     "metadata": {},
     "output_type": "execute_result"
    }
   ],
   "source": [
    "X_train.shape"
   ]
  },
  {
   "cell_type": "code",
   "execution_count": 16,
   "id": "a4950d3a",
   "metadata": {},
   "outputs": [],
   "source": [
    "X_train = X_train.drop(['col'],axis=1)\n",
    "X_test = X_test.drop(['col'],axis=1)"
   ]
  },
  {
   "cell_type": "code",
   "execution_count": 17,
   "id": "8b5ccf46",
   "metadata": {},
   "outputs": [],
   "source": [
    "X_train = X_train.reset_index()\n",
    "x_train1 = x_train1.reset_index()\n",
    "X_test = X_test.reset_index()\n",
    "x_test1 = x_test1.reset_index()\n",
    "\n",
    "\n",
    "# print(x_train1.shape)\n",
    "X_train1 = pd.concat([X_train, x_train1], axis=1)\n",
    "X_test1 = pd.concat([X_test, x_test1], axis=1)"
   ]
  },
  {
   "cell_type": "code",
   "execution_count": 18,
   "id": "4d6dd019",
   "metadata": {},
   "outputs": [],
   "source": [
    "# models\n",
    "\n",
    "from sklearn.tree import DecisionTreeClassifier\n",
    "from sklearn.ensemble import AdaBoostClassifier\n",
    "from sklearn.neighbors import KNeighborsClassifier\n",
    "\n",
    "\n",
    "DecTr = DecisionTreeClassifier()\n",
    "AdaBoost = AdaBoostClassifier()\n",
    "Knn = KNeighborsClassifier()\n",
    "\n",
    "DecTr1 = DecisionTreeClassifier()\n",
    "AdaBoost1 = AdaBoostClassifier()\n",
    "Knn1 = KNeighborsClassifier()\n"
   ]
  },
  {
   "cell_type": "code",
   "execution_count": 19,
   "id": "f41ccb96",
   "metadata": {},
   "outputs": [
    {
     "name": "stdout",
     "output_type": "stream",
     "text": [
      "fitting extended data\n"
     ]
    },
    {
     "data": {
      "text/plain": [
       "KNeighborsClassifier()"
      ]
     },
     "execution_count": 19,
     "metadata": {},
     "output_type": "execute_result"
    }
   ],
   "source": [
    "print(\"fitting extended data\")\n",
    "DecTr.fit(X_train,y_train)\n",
    "AdaBoost.fit(X_train,y_train)\n",
    "Knn.fit(X_train,y_train)"
   ]
  },
  {
   "cell_type": "code",
   "execution_count": 20,
   "id": "5e0fdf52",
   "metadata": {},
   "outputs": [
    {
     "name": "stdout",
     "output_type": "stream",
     "text": [
      "fitting only text\n"
     ]
    },
    {
     "data": {
      "text/plain": [
       "KNeighborsClassifier()"
      ]
     },
     "execution_count": 20,
     "metadata": {},
     "output_type": "execute_result"
    }
   ],
   "source": [
    "print(\"fitting only text\")\n",
    "DecTr1.fit(X_train1,y_train)\n",
    "AdaBoost1.fit(X_train1,y_train)\n",
    "Knn1.fit(X_train1,y_train)"
   ]
  },
  {
   "cell_type": "code",
   "execution_count": 21,
   "id": "5b9f355c",
   "metadata": {},
   "outputs": [
    {
     "name": "stdout",
     "output_type": "stream",
     "text": [
      "predicting extended\n"
     ]
    }
   ],
   "source": [
    "print(\"predicting extended\")\n",
    "predictionsa = DecTr.predict(X_test)\n",
    "predictionsb = AdaBoost.predict(X_test)\n",
    "predictionsc = Knn.predict(X_test)"
   ]
  },
  {
   "cell_type": "code",
   "execution_count": 22,
   "id": "d4a461fb",
   "metadata": {},
   "outputs": [
    {
     "name": "stdout",
     "output_type": "stream",
     "text": [
      "predicting original\n"
     ]
    }
   ],
   "source": [
    "print(\"predicting original\")\n",
    "predictions1a = DecTr1.predict(X_test1)\n",
    "predictions1b = AdaBoost1.predict(X_test1)\n",
    "predictions1c = Knn1.predict(X_test1)"
   ]
  },
  {
   "cell_type": "code",
   "execution_count": 23,
   "id": "e62f6788",
   "metadata": {},
   "outputs": [
    {
     "name": "stdout",
     "output_type": "stream",
     "text": [
      "Decision tree\n",
      "\n",
      "extended:\n",
      "[[3033 1926]\n",
      " [2012 3029]]\n",
      "              precision    recall  f1-score   support\n",
      "\n",
      "           0       0.60      0.61      0.61      4959\n",
      "           1       0.61      0.60      0.61      5041\n",
      "\n",
      "    accuracy                           0.61     10000\n",
      "   macro avg       0.61      0.61      0.61     10000\n",
      "weighted avg       0.61      0.61      0.61     10000\n",
      "\n",
      "0.6062\n",
      "original:\n",
      "[[2951 2008]\n",
      " [2037 3004]]\n",
      "              precision    recall  f1-score   support\n",
      "\n",
      "           0       0.59      0.60      0.59      4959\n",
      "           1       0.60      0.60      0.60      5041\n",
      "\n",
      "    accuracy                           0.60     10000\n",
      "   macro avg       0.60      0.60      0.60     10000\n",
      "weighted avg       0.60      0.60      0.60     10000\n",
      "\n",
      "0.5955\n"
     ]
    }
   ],
   "source": [
    "print(\"Decision tree\\n\")\n",
    "\n",
    "print(\"extended:\")\n",
    "print(confusion_matrix(y_test,predictionsa))\n",
    "print(classification_report(y_test,predictionsa))\n",
    "print(accuracy_score(y_test,predictionsa))\n",
    "\n",
    "print(\"original:\")\n",
    "print(confusion_matrix(y_test,predictions1a))\n",
    "print(classification_report(y_test,predictions1a))\n",
    "print(accuracy_score(y_test,predictions1a))"
   ]
  },
  {
   "cell_type": "code",
   "execution_count": 24,
   "id": "23122d70",
   "metadata": {},
   "outputs": [
    {
     "name": "stdout",
     "output_type": "stream",
     "text": [
      "Adaboost\n",
      "\n",
      "extended:\n",
      "[[2585 2374]\n",
      " [1389 3652]]\n",
      "              precision    recall  f1-score   support\n",
      "\n",
      "           0       0.65      0.52      0.58      4959\n",
      "           1       0.61      0.72      0.66      5041\n",
      "\n",
      "    accuracy                           0.62     10000\n",
      "   macro avg       0.63      0.62      0.62     10000\n",
      "weighted avg       0.63      0.62      0.62     10000\n",
      "\n",
      "0.6237\n",
      "original:\n",
      "[[2581 2378]\n",
      " [1389 3652]]\n",
      "              precision    recall  f1-score   support\n",
      "\n",
      "           0       0.65      0.52      0.58      4959\n",
      "           1       0.61      0.72      0.66      5041\n",
      "\n",
      "    accuracy                           0.62     10000\n",
      "   macro avg       0.63      0.62      0.62     10000\n",
      "weighted avg       0.63      0.62      0.62     10000\n",
      "\n",
      "0.6233\n"
     ]
    }
   ],
   "source": [
    "print(\"Adaboost\\n\")\n",
    "\n",
    "print(\"extended:\")\n",
    "print(confusion_matrix(y_test,predictionsb))\n",
    "print(classification_report(y_test,predictionsb))\n",
    "print(accuracy_score(y_test,predictionsb))\n",
    "\n",
    "print(\"original:\")\n",
    "print(confusion_matrix(y_test,predictions1b))\n",
    "print(classification_report(y_test,predictions1b))\n",
    "print(accuracy_score(y_test,predictions1b))"
   ]
  },
  {
   "cell_type": "code",
   "execution_count": 25,
   "id": "f71b8114",
   "metadata": {},
   "outputs": [
    {
     "name": "stdout",
     "output_type": "stream",
     "text": [
      "KNN\n",
      "\n",
      "extended:\n",
      "[[2802 2157]\n",
      " [2412 2629]]\n",
      "              precision    recall  f1-score   support\n",
      "\n",
      "           0       0.54      0.57      0.55      4959\n",
      "           1       0.55      0.52      0.54      5041\n",
      "\n",
      "    accuracy                           0.54     10000\n",
      "   macro avg       0.54      0.54      0.54     10000\n",
      "weighted avg       0.54      0.54      0.54     10000\n",
      "\n",
      "0.5431\n",
      "original:\n",
      "[[2553 2406]\n",
      " [2483 2558]]\n",
      "              precision    recall  f1-score   support\n",
      "\n",
      "           0       0.51      0.51      0.51      4959\n",
      "           1       0.52      0.51      0.51      5041\n",
      "\n",
      "    accuracy                           0.51     10000\n",
      "   macro avg       0.51      0.51      0.51     10000\n",
      "weighted avg       0.51      0.51      0.51     10000\n",
      "\n",
      "0.5111\n"
     ]
    }
   ],
   "source": [
    "print(\"KNN\\n\")\n",
    "\n",
    "print(\"extended:\")\n",
    "print(confusion_matrix(y_test,predictionsc))\n",
    "print(classification_report(y_test,predictionsc))\n",
    "print(accuracy_score(y_test,predictionsc))\n",
    "\n",
    "print(\"original:\")\n",
    "print(confusion_matrix(y_test,predictions1c))\n",
    "print(classification_report(y_test,predictions1c))\n",
    "print(accuracy_score(y_test,predictions1c))"
   ]
  }
 ],
 "metadata": {
  "kernelspec": {
   "display_name": "Python 3 (ipykernel)",
   "language": "python",
   "name": "python3"
  },
  "language_info": {
   "codemirror_mode": {
    "name": "ipython",
    "version": 3
   },
   "file_extension": ".py",
   "mimetype": "text/x-python",
   "name": "python",
   "nbconvert_exporter": "python",
   "pygments_lexer": "ipython3",
   "version": "3.9.12"
  }
 },
 "nbformat": 4,
 "nbformat_minor": 5
}
